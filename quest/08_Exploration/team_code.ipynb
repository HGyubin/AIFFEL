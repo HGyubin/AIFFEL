{
 "cells": [
  {
   "attachments": {},
   "cell_type": "markdown",
   "id": "108848bb",
   "metadata": {},
   "source": [
    "## 한국어 데이터로 챗봇 만들기\n",
    "\n",
    "1. 한국어 전처리를 통해 학습 데이터셋을 구축하였다. 공백과 특수문자 처리, 토크나이징, 병렬데이터 구축의 과정이 적절히 진행되었다.\n",
    "\n",
    "2. 트랜스포머 모델을 구현하여 한국어 챗봇 모델 학습을 정상적으로 진행하였다. 구현한 트랜스포머 모델이 한국어 병렬 데이터 학습 시 안정적으로 수렴하였다.\n",
    "\n",
    "3. 한국어 입력문장에 대해 한국어로 답변하는 함수를 구현하였다. 한국어 입력문장에 맥락에 맞는 한국어로 답변을 리턴하였다."
   ]
  },
  {
   "attachments": {},
   "cell_type": "markdown",
   "id": "91f6348d",
   "metadata": {},
   "source": [
    "### 목차"
   ]
  },
  {
   "attachments": {},
   "cell_type": "markdown",
   "id": "cc6910f3",
   "metadata": {},
   "source": [
    "### 필수 라이브러리\n"
   ]
  },
  {
   "cell_type": "code",
   "execution_count": 1,
   "id": "9125be5a",
   "metadata": {},
   "outputs": [],
   "source": [
    "import tensorflow as tf\n",
    "import tensorflow_datasets as tfds\n",
    "import os\n",
    "import re\n",
    "import numpy as np\n",
    "import matplotlib.pyplot as plt\n",
    "import pandas as pd\n"
   ]
  },
  {
   "attachments": {},
   "cell_type": "markdown",
   "id": "e212c762",
   "metadata": {},
   "source": [
    "### Step 1. 데이터 수집하기\n",
    "한국어 챗봇 데이터는 송영숙님이 공개한 챗봇 데이터를 사용합니다."
   ]
  },
  {
   "cell_type": "code",
   "execution_count": 2,
   "id": "2337f335",
   "metadata": {},
   "outputs": [],
   "source": [
    "#!wget https://github.com/songys/Chatbot_data/blob/master/ChatbotData.csv\n",
    "#!pwd\n",
    "#!ls"
   ]
  },
  {
   "cell_type": "code",
   "execution_count": null,
   "id": "c81a33b1",
   "metadata": {},
   "outputs": [],
   "source": []
  },
  {
   "attachments": {},
   "cell_type": "markdown",
   "id": "3bfd1c16",
   "metadata": {},
   "source": [
    "### Step 2. 데이터 전처리하기\n",
    "한글 데이터와는 전혀 다른 데이터인 만큼 한글 데이터에 사용했던 전처리와 일부 동일한 전처리도 필요하겠지만 전체적으로는 다른 전처리를 수행해야 할 수도 있습니다.\n",
    "\n",
    " - 양쪽 끝 공백 제거\n",
    " - 구두점 거리 추가\n",
    " - 한글 + 구두점 제외 공백 치환\n",
    " - 양쪽 끝 공백 제거"
   ]
  },
  {
   "cell_type": "code",
   "execution_count": null,
   "id": "60b156ad",
   "metadata": {},
   "outputs": [],
   "source": []
  },
  {
   "cell_type": "code",
   "execution_count": null,
   "id": "9c56a46e",
   "metadata": {},
   "outputs": [],
   "source": []
  },
  {
   "cell_type": "code",
   "execution_count": null,
   "id": "ccd6be8a",
   "metadata": {},
   "outputs": [],
   "source": []
  },
  {
   "attachments": {},
   "cell_type": "markdown",
   "id": "116a8a48",
   "metadata": {},
   "source": [
    "### Step 3. SubwordTextEncoder 사용하기\n",
    "\n",
    " - 하나의 단어를 여러 서브워드로 분리해서 단어를 정수 인코딩\n",
    " - 문장의 시작과 끝을 나타내는 START_TOKEN 및 END_TOKEN을 추가\n",
    " - MAX_LENGTH 인 40을 넘는 문장들은 필터링\n",
    " - MAX_LENGTH보다 길이가 짧은 문장들은 40에 맞도록 패딩"
   ]
  },
  {
   "cell_type": "code",
   "execution_count": null,
   "id": "c41a0878",
   "metadata": {},
   "outputs": [],
   "source": []
  },
  {
   "attachments": {},
   "cell_type": "markdown",
   "id": "fee0a6d6",
   "metadata": {},
   "source": [
    "### 교사 강요(Teacher Forcing) 사용하기\n"
   ]
  },
  {
   "cell_type": "code",
   "execution_count": null,
   "id": "6fd3c63c",
   "metadata": {},
   "outputs": [],
   "source": []
  },
  {
   "attachments": {},
   "cell_type": "markdown",
   "id": "65227263",
   "metadata": {},
   "source": [
    "### Step 4. 모델 구성하기\n",
    "위 실습 내용을 참고하여 트랜스포머 모델을 구현합니다.\n",
    "- 포지셔널 인코딩 레이어\n",
    "- 스케일드 닷 프로덕트\n",
    "- 멀티 헤드 어텐션\n",
    "- 패딩 마스크\n",
    "- 룩 어헤드 마스킹\n",
    "- 인코더\n",
    "- 디코더\n",
    "- 트랜스 포머\n"
   ]
  },
  {
   "cell_type": "code",
   "execution_count": null,
   "id": "923a46a1",
   "metadata": {},
   "outputs": [],
   "source": []
  },
  {
   "cell_type": "code",
   "execution_count": null,
   "id": "61627e94",
   "metadata": {},
   "outputs": [],
   "source": []
  },
  {
   "cell_type": "code",
   "execution_count": null,
   "id": "f0849e19",
   "metadata": {},
   "outputs": [],
   "source": []
  },
  {
   "attachments": {},
   "cell_type": "markdown",
   "id": "ac627a6b",
   "metadata": {},
   "source": [
    "### 마스킹\n",
    "마스킹(Masking) 이란, 특정 값들을 가려서 실제 연산에 방해가 되지 않도록 하는 기법입니다.\n",
    "\n",
    "트랜스포머에서는 어텐션을 위해서 크게 두 가지 마스킹을 사용"
   ]
  },
  {
   "cell_type": "code",
   "execution_count": null,
   "id": "1f91f1bd",
   "metadata": {},
   "outputs": [],
   "source": []
  },
  {
   "cell_type": "code",
   "execution_count": null,
   "id": "3b92b4be",
   "metadata": {},
   "outputs": [],
   "source": []
  },
  {
   "attachments": {},
   "cell_type": "markdown",
   "id": "cb1cad9d",
   "metadata": {},
   "source": [
    "## 인코더 구현\n",
    "하나의 인코더 층은 크게 총 2개의 서브 층(sublayer)으로 나누어집니다.\n",
    "- 셀프 어텐션\n",
    "- 피드 포워드 신경망\n",
    "\n",
    "셀프 어텐션은 멀티 헤드 어텐션으로 병렬적으로 이루어집니다."
   ]
  },
  {
   "cell_type": "code",
   "execution_count": null,
   "id": "18405ac5",
   "metadata": {},
   "outputs": [],
   "source": []
  },
  {
   "cell_type": "code",
   "execution_count": null,
   "id": "4bc24aa0",
   "metadata": {},
   "outputs": [],
   "source": []
  },
  {
   "attachments": {},
   "cell_type": "markdown",
   "id": "e1da03b3",
   "metadata": {},
   "source": [
    "## 디코더 구현\n",
    "디코더는 세 개의 서브 층으로 구성\n",
    "- 셀프 어텐션\n",
    "- 인코더-디코더 어텐션\n",
    "- 피드 포워드 신경망\n",
    "\n",
    "인코더-디코더 어텐션은 셀프 어텐션과는 달리, Query가 디코더의 벡터인 반면에 Key와 Value가 인코더의 벡터라는 특징.\n",
    "\n",
    "이 부분이 인코더가 입력 문장으로부터 정보를 디코더에 전달하는 과정"
   ]
  },
  {
   "cell_type": "code",
   "execution_count": null,
   "id": "31d881ac",
   "metadata": {},
   "outputs": [],
   "source": []
  },
  {
   "cell_type": "code",
   "execution_count": null,
   "id": "dba470f8",
   "metadata": {},
   "outputs": [],
   "source": []
  },
  {
   "attachments": {},
   "cell_type": "markdown",
   "id": "cfccb636",
   "metadata": {},
   "source": [
    "## 트랜스포머\n",
    "인코더 층 함수와 디코더 층 함수를 사용하여 트랜스포머 함수를 정의"
   ]
  },
  {
   "cell_type": "code",
   "execution_count": null,
   "id": "8dabc85f",
   "metadata": {},
   "outputs": [],
   "source": []
  },
  {
   "cell_type": "code",
   "execution_count": null,
   "id": "d6ba50ff",
   "metadata": {},
   "outputs": [],
   "source": []
  },
  {
   "attachments": {},
   "cell_type": "markdown",
   "id": "876cdf19",
   "metadata": {},
   "source": [
    "## 모델 생성"
   ]
  },
  {
   "cell_type": "code",
   "execution_count": null,
   "id": "29d2fff3",
   "metadata": {},
   "outputs": [],
   "source": []
  },
  {
   "cell_type": "code",
   "execution_count": null,
   "id": "bd6bf67d",
   "metadata": {},
   "outputs": [],
   "source": []
  },
  {
   "cell_type": "code",
   "execution_count": null,
   "id": "d88702a4",
   "metadata": {},
   "outputs": [],
   "source": []
  },
  {
   "attachments": {},
   "cell_type": "markdown",
   "id": "872c2bf4",
   "metadata": {},
   "source": [
    "## 손실함수"
   ]
  },
  {
   "cell_type": "code",
   "execution_count": null,
   "id": "0b71f80a",
   "metadata": {},
   "outputs": [],
   "source": []
  },
  {
   "cell_type": "code",
   "execution_count": null,
   "id": "1b1b3ee5",
   "metadata": {},
   "outputs": [],
   "source": []
  },
  {
   "attachments": {},
   "cell_type": "markdown",
   "id": "ec1e8ac6",
   "metadata": {},
   "source": [
    "## 커스텀 된 학습률\n",
    "딥러닝 모델학습 시 learning rate는 매우 중요한 하이퍼파라미터입니다.\n",
    "\n",
    "최근에는 모델학습 초기에 learning rate를 급격히 높였다가, 이후 train step이 진행됨에 따라 서서히 낮추어가면서\n",
    "\n",
    "안정적으로 수렴하게 하는 고급 기법을 널리 사용.\n",
    "\n",
    "이런 방법을 커스텀 학습률 스케줄링(Custom Learning rate Scheduling)이라고 합니다."
   ]
  },
  {
   "cell_type": "code",
   "execution_count": null,
   "id": "d56ab980",
   "metadata": {},
   "outputs": [],
   "source": []
  },
  {
   "cell_type": "code",
   "execution_count": null,
   "id": "4da0b077",
   "metadata": {},
   "outputs": [],
   "source": []
  },
  {
   "attachments": {},
   "cell_type": "markdown",
   "id": "a3b0a96e",
   "metadata": {},
   "source": [
    "## 모델 컴파일\n",
    "손실 함수와 커스텀 된 학습률(learning rate)을 사용하여 모델을 컴파일"
   ]
  },
  {
   "cell_type": "code",
   "execution_count": null,
   "id": "04ea6680",
   "metadata": {},
   "outputs": [],
   "source": []
  },
  {
   "cell_type": "code",
   "execution_count": null,
   "id": "87aa3113",
   "metadata": {},
   "outputs": [],
   "source": []
  },
  {
   "attachments": {},
   "cell_type": "markdown",
   "id": "6e91b7a4",
   "metadata": {},
   "source": [
    "## 훈련"
   ]
  },
  {
   "cell_type": "code",
   "execution_count": null,
   "id": "c6534b53",
   "metadata": {},
   "outputs": [],
   "source": []
  },
  {
   "cell_type": "code",
   "execution_count": null,
   "id": "f854c80a",
   "metadata": {},
   "outputs": [],
   "source": []
  },
  {
   "attachments": {},
   "cell_type": "markdown",
   "id": "262fcbb0",
   "metadata": {},
   "source": [
    "### Step 5. 모델 평가하기\n",
    "Step 1에서 선택한 전처리 방법을 고려하여 입력된 문장에 대해서 대답을 얻는 예측 함수를 만듭니다."
   ]
  },
  {
   "cell_type": "code",
   "execution_count": null,
   "id": "a32e326c",
   "metadata": {},
   "outputs": [],
   "source": []
  },
  {
   "cell_type": "code",
   "execution_count": null,
   "id": "56513f65",
   "metadata": {},
   "outputs": [],
   "source": []
  },
  {
   "cell_type": "code",
   "execution_count": null,
   "id": "332952e4",
   "metadata": {},
   "outputs": [],
   "source": []
  }
 ],
 "metadata": {
  "kernelspec": {
   "display_name": "Python 3 (ipykernel)",
   "language": "python",
   "name": "python3"
  },
  "language_info": {
   "codemirror_mode": {
    "name": "ipython",
    "version": 3
   },
   "file_extension": ".py",
   "mimetype": "text/x-python",
   "name": "python",
   "nbconvert_exporter": "python",
   "pygments_lexer": "ipython3",
   "version": "3.9.6"
  }
 },
 "nbformat": 4,
 "nbformat_minor": 5
}
