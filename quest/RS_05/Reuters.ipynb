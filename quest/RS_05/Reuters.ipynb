{
 "cells": [
  {
   "cell_type": "code",
   "execution_count": 1,
   "id": "1dfdceb6",
   "metadata": {},
   "outputs": [],
   "source": [
    "import numpy as np\n",
    "import matplotlib.pyplot as plt\n",
    "from sklearn.model_selection import train_test_split\n",
    "\n",
    "from tensorflow.keras import models, layers\n",
    "from tensorflow.keras import callbacks\n",
    "from tensorflow.keras import utils\n",
    "from keras.datasets import reuters"
   ]
  },
  {
   "cell_type": "code",
   "execution_count": 2,
   "id": "0ec2e6ac",
   "metadata": {},
   "outputs": [
    {
     "name": "stdout",
     "output_type": "stream",
     "text": [
      "(6736,)\n",
      "(2246,)\n",
      "(2246,)\n"
     ]
    }
   ],
   "source": [
    "# 문제 2-1: reuters 데이터셋을 로드하고, 훈련 데이터셋에서 25%를 검증 데이터셋으로 분리합니다.\n",
    "# keras.datasets 안에 boston_housing 데이터셋을 로드합니다.\n",
    "(train_data_full, train_labels_full), (test_data, test_labels) = reuters.load_data(num_words=10000)\n",
    "\n",
    "train_data, val_data, train_labels, val_labels = train_test_split(train_data_full, train_labels_full,\n",
    "                                                             test_size = 0.25, random_state=9)\n",
    "\n",
    "# 훈련, 검증, 테스트 데이터와 레이블 종류가 몇 개인지 출력합니다.\n",
    "print(train_data.shape)\n",
    "print(val_data.shape)\n",
    "print(test_data.shape)"
   ]
  },
  {
   "cell_type": "code",
   "execution_count": 3,
   "id": "12981d55",
   "metadata": {},
   "outputs": [
    {
     "name": "stdout",
     "output_type": "stream",
     "text": [
      "(6736, 10000)\n",
      "(2246, 10000)\n",
      "(2246, 10000)\n",
      "(2246, 46)\n"
     ]
    }
   ],
   "source": [
    "from tensorflow.keras import utils\n",
    "\n",
    "# 문제 2-2: 텍스트 데이터의 전처리를 위해서 각 데이터셋마다 원-핫 인코딩을 수행합니다.\n",
    "def one_hot_encoding(data, dim=10000):\n",
    "    results = np.zeros((len(data), dim))\n",
    "    for i, d in enumerate(data):\n",
    "        results[i, d] = 1.\n",
    "    return results\n",
    "\n",
    "# 각 데이터셋에 대해 원-핫 인코딩 수행\n",
    "x_train = one_hot_encoding(train_data)\n",
    "x_val = one_hot_encoding(val_data)\n",
    "x_test = one_hot_encoding(test_data)\n",
    "\n",
    "# 레이블 데이터를 범주형 형태로 변환합니다.\n",
    "y_train = utils.to_categorical(train_labels)\n",
    "y_val = utils.to_categorical(val_labels)\n",
    "y_test = utils.to_categorical(test_labels)\n",
    "\n",
    "print(x_train.shape)\n",
    "print(x_val.shape)\n",
    "print(x_test.shape)\n",
    "print(y_test.shape)\n"
   ]
  },
  {
   "cell_type": "code",
   "execution_count": 4,
   "id": "6f11e514",
   "metadata": {},
   "outputs": [],
   "source": [
    "# 문제 2-3: 빠른 학습과 과대적합을 방지하기 위해 BatchNormalization과 Dropout을 적용한 딥러닝 모델을 구성합니다.\n",
    "model = models.Sequential()\n",
    "model.add(layers.Input(shape=(10000,), name='input'))\n",
    "model.add(layers.Dense(128, activation=\"relu\", name='hidden1'))\n",
    "model.add(layers.BatchNormalization())\n",
    "model.add(layers.Activation(\"selu\"))\n",
    "model.add(layers.Dropout(0.02))\n",
    "model.add(layers.Dense(128, activation=\"relu\", name='hidden2'))\n",
    "model.add(layers.BatchNormalization())\n",
    "model.add(layers.Activation(\"selu\"))\n",
    "model.add(layers.Dropout(0.02))\n",
    "model.add(layers.Dense(46, activation=\"softmax\", name='outputs'))\n"
   ]
  },
  {
   "cell_type": "code",
   "execution_count": 5,
   "id": "ab06950a",
   "metadata": {},
   "outputs": [
    {
     "name": "stdout",
     "output_type": "stream",
     "text": [
      "Model: \"sequential\"\n",
      "_________________________________________________________________\n",
      "Layer (type)                 Output Shape              Param #   \n",
      "=================================================================\n",
      "hidden1 (Dense)              (None, 128)               1280128   \n",
      "_________________________________________________________________\n",
      "batch_normalization (BatchNo (None, 128)               512       \n",
      "_________________________________________________________________\n",
      "activation (Activation)      (None, 128)               0         \n",
      "_________________________________________________________________\n",
      "dropout (Dropout)            (None, 128)               0         \n",
      "_________________________________________________________________\n",
      "hidden2 (Dense)              (None, 128)               16512     \n",
      "_________________________________________________________________\n",
      "batch_normalization_1 (Batch (None, 128)               512       \n",
      "_________________________________________________________________\n",
      "activation_1 (Activation)    (None, 128)               0         \n",
      "_________________________________________________________________\n",
      "dropout_1 (Dropout)          (None, 128)               0         \n",
      "_________________________________________________________________\n",
      "outputs (Dense)              (None, 46)                5934      \n",
      "=================================================================\n",
      "Total params: 1,303,598\n",
      "Trainable params: 1,303,086\n",
      "Non-trainable params: 512\n",
      "_________________________________________________________________\n"
     ]
    }
   ],
   "source": [
    "model.summary()\n",
    "\n",
    "model.compile(loss='categorical_crossentropy',\n",
    "              optimizer='rmsprop',\n",
    "              metrics=['accuracy'])"
   ]
  },
  {
   "cell_type": "code",
   "execution_count": 6,
   "id": "af786fc5",
   "metadata": {},
   "outputs": [
    {
     "name": "stdout",
     "output_type": "stream",
     "text": [
      "(6736, 10000)\n",
      "(2246, 10000)\n",
      "(2246, 10000)\n",
      "(2246, 46)\n",
      "Epoch 1/60\n",
      "211/211 [==============================] - 3s 8ms/step - loss: 1.3420 - accuracy: 0.7283 - val_loss: 1.1753 - val_accuracy: 0.7640\n",
      "Epoch 2/60\n",
      "211/211 [==============================] - 1s 5ms/step - loss: 0.5015 - accuracy: 0.8967 - val_loss: 0.9751 - val_accuracy: 0.7974\n",
      "Epoch 3/60\n",
      "211/211 [==============================] - 1s 5ms/step - loss: 0.2853 - accuracy: 0.9418 - val_loss: 1.1092 - val_accuracy: 0.8028\n",
      "Epoch 4/60\n",
      "211/211 [==============================] - 1s 5ms/step - loss: 0.2308 - accuracy: 0.9507 - val_loss: 1.0912 - val_accuracy: 0.8023\n",
      "Epoch 5/60\n",
      "211/211 [==============================] - 1s 5ms/step - loss: 0.1865 - accuracy: 0.9568 - val_loss: 1.1217 - val_accuracy: 0.8103\n",
      "Epoch 6/60\n",
      "211/211 [==============================] - 1s 5ms/step - loss: 0.1836 - accuracy: 0.9559 - val_loss: 1.1371 - val_accuracy: 0.8023\n",
      "Epoch 7/60\n",
      "211/211 [==============================] - 1s 6ms/step - loss: 0.1730 - accuracy: 0.9593 - val_loss: 1.1158 - val_accuracy: 0.7965\n",
      "Epoch 8/60\n",
      "211/211 [==============================] - 1s 5ms/step - loss: 0.1576 - accuracy: 0.9599 - val_loss: 1.1149 - val_accuracy: 0.7996\n",
      "Epoch 9/60\n",
      "211/211 [==============================] - 1s 5ms/step - loss: 0.1424 - accuracy: 0.9595 - val_loss: 1.1639 - val_accuracy: 0.8023\n",
      "Epoch 10/60\n",
      "211/211 [==============================] - 1s 5ms/step - loss: 0.1427 - accuracy: 0.9592 - val_loss: 1.1704 - val_accuracy: 0.7952\n",
      "Epoch 11/60\n",
      "211/211 [==============================] - 1s 5ms/step - loss: 0.1362 - accuracy: 0.9596 - val_loss: 1.1380 - val_accuracy: 0.7939\n",
      "Epoch 12/60\n",
      "211/211 [==============================] - 1s 5ms/step - loss: 0.1290 - accuracy: 0.9611 - val_loss: 1.1402 - val_accuracy: 0.7912\n"
     ]
    }
   ],
   "source": [
    "# 문제 2-4: ModelCheckpoint와 EarlyStopping 콜백 함수를 적용하여 모델 학습을 진행합니다.\n",
    "from tensorflow.keras import callbacks\n",
    "print(x_train.shape)\n",
    "print(x_val.shape)\n",
    "print(x_test.shape)\n",
    "print(y_test.shape)\n",
    "check_point_cb = callbacks.ModelCheckpoint('reuters_model.h5', \n",
    "                                           save_best_only=True)\n",
    "early_stopping_cb = callbacks.EarlyStopping(patience=10, \n",
    "                                            monitor='val_loss',\n",
    "                                            restore_best_weights=True)\n",
    "history = model.fit(x_train, y_train, epochs=60,\n",
    "                    validation_data=(x_val, y_val),\n",
    "                    callbacks=[check_point_cb, early_stopping_cb])"
   ]
  },
  {
   "cell_type": "code",
   "execution_count": 7,
   "id": "1e0dd898",
   "metadata": {},
   "outputs": [
    {
     "data": {
      "image/png": "[encoded data removed]",
      "text/plain": [
       "<Figure size 864x360 with 2 Axes>"
      ]
     },
     "metadata": {},
     "output_type": "display_data"
    }
   ],
   "source": [
    "# 학습 히스토리의 `loss`, `val_loss`, `accuracy`, `val_accuracy`를 차트로 시각화합니다.\n",
    "plt.style.use('seaborn-white')\n",
    "\n",
    "history_dict = history.history\n",
    "\n",
    "loss = history_dict['loss']\n",
    "val_loss = history_dict['val_loss']\n",
    "\n",
    "epochs = range(1, len(loss) + 1)\n",
    "fig = plt.figure(figsize=(12, 5))\n",
    "\n",
    "ax1 = fig.add_subplot(1, 2, 1)\n",
    "ax1.plot(epochs, loss, 'b-', label='train_loss')\n",
    "ax1.plot(epochs, val_loss, 'r-', label='val_loss')\n",
    "ax1.set_title('Train and Validation Loss')\n",
    "ax1.set_xlabel('Epochs')\n",
    "ax1.set_ylabel('Loss')\n",
    "ax1.grid()\n",
    "ax1.legend()\n",
    "\n",
    "accuracy = history_dict['accuracy']\n",
    "val_accuracy = history_dict['val_accuracy']\n",
    "\n",
    "ax2 = fig.add_subplot(1, 2, 2)\n",
    "ax2.plot(epochs, accuracy, 'b-', label='train_accuracy')\n",
    "ax2.plot(epochs, val_accuracy, 'r-', label='val_accuracy')\n",
    "ax2.set_title('Train and Validation Accuracy')\n",
    "ax2.set_xlabel('Epochs')\n",
    "ax2.set_ylabel('Accuracy')\n",
    "ax2.grid()\n",
    "ax2.legend()\n",
    "\n",
    "plt.show()"
   ]
  },
  {
   "cell_type": "code",
   "execution_count": 8,
   "id": "ed1ae965",
   "metadata": {},
   "outputs": [
    {
     "name": "stdout",
     "output_type": "stream",
     "text": [
      "71/71 [==============================] - 0s 2ms/step - loss: 1.0031 - accuracy: 0.7912\n"
     ]
    },
    {
     "data": {
      "text/plain": [
       "[1.0031129121780396, 0.7911843061447144]"
      ]
     },
     "execution_count": 8,
     "metadata": {},
     "output_type": "execute_result"
    }
   ],
   "source": [
    "# 문제 2-5: 테스트 데이터셋을 이용해 모델을 평가합니다.\n",
    "model.evaluate(x_test, y_test)"
   ]
  },
  {
   "cell_type": "code",
   "execution_count": null,
   "id": "28a3017a",
   "metadata": {},
   "outputs": [],
   "source": []
  },
  {
   "cell_type": "code",
   "execution_count": null,
   "id": "72f845b0",
   "metadata": {},
   "outputs": [],
   "source": []
  },
  {
   "cell_type": "code",
   "execution_count": null,
   "id": "cce2bb55",
   "metadata": {},
   "outputs": [],
   "source": []
  },
  {
   "cell_type": "code",
   "execution_count": null,
   "id": "16e7d70e",
   "metadata": {},
   "outputs": [],
   "source": []
  },
  {
   "cell_type": "code",
   "execution_count": null,
   "id": "65c0e6e4",
   "metadata": {},
   "outputs": [],
   "source": []
  },
  {
   "cell_type": "code",
   "execution_count": null,
   "id": "a1169e8c",
   "metadata": {},
   "outputs": [],
   "source": []
  }
 ],
 "metadata": {
  "kernelspec": {
   "display_name": "Python 3 (ipykernel)",
   "language": "python",
   "name": "python3"
  },
  "language_info": {
   "codemirror_mode": {
    "name": "ipython",
    "version": 3
   },
   "file_extension": ".py",
   "mimetype": "text/x-python",
   "name": "python",
   "nbconvert_exporter": "python",
   "pygments_lexer": "ipython3",
   "version": "3.9.7"
  }
 },
 "nbformat": 4,
 "nbformat_minor": 5
}
